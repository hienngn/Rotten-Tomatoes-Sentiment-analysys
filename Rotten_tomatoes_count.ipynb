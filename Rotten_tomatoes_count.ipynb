{
 "cells": [
  {
   "cell_type": "markdown",
   "metadata": {},
   "source": [
    "## **Import librabies**"
   ]
  },
  {
   "cell_type": "code",
   "execution_count": 4,
   "metadata": {},
   "outputs": [],
   "source": [
    "import numpy as np\n",
    "import pandas as pd\n",
    "import seaborn as sns\n",
    "import matplotlib.pyplot as plt\n",
    "%matplotlib inline\n",
    "\n",
    "import warnings\n",
    "warnings.filterwarnings('ignore')\n",
    "\n",
    "import pickle\n",
    "import os\n",
    "import re \n",
    "\n",
    "sns.set_style(\"whitegrid\")"
   ]
  },
  {
   "cell_type": "code",
   "execution_count": 2,
   "metadata": {},
   "outputs": [],
   "source": [
    "from sklearn.model_selection import train_test_split\n",
    "from sklearn.feature_extraction.text import CountVectorizer\n",
    "from sklearn.pipeline import Pipeline\n",
    "from sklearn.linear_model import LogisticRegression\n",
    "from sklearn.feature_extraction.text import TfidfVectorizer\n",
    "from sklearn.metrics import accuracy_score, confusion_matrix, classification_report"
   ]
  },
  {
   "cell_type": "code",
   "execution_count": 3,
   "metadata": {},
   "outputs": [],
   "source": [
    "from nltk.stem import PorterStemmer\n",
    "import nltk\n",
    "# nltk.download('stopwords')\n",
    "# nltk.download()\n",
    "\n",
    "from collections import Counter"
   ]
  },
  {
   "cell_type": "markdown",
   "metadata": {},
   "source": [
    "## **Loading data**"
   ]
  },
  {
   "cell_type": "code",
   "execution_count": 37,
   "metadata": {},
   "outputs": [],
   "source": [
    "df_train = pd.read_csv('train.csv')\n"
   ]
  },
  {
   "cell_type": "code",
   "execution_count": 38,
   "metadata": {},
   "outputs": [],
   "source": [
    "df_train.drop(columns='Unnamed: 0', inplace=True)"
   ]
  },
  {
   "cell_type": "code",
   "execution_count": 39,
   "metadata": {
    "collapsed": true,
    "jupyter": {
     "outputs_hidden": true
    }
   },
   "outputs": [
    {
     "data": {
      "text/plain": [
       "0                                                positively\n",
       "1         disguise the slack complacency of -LRB- Godard...\n",
       "2         realizes a fullness that does not negate the s...\n",
       "3                                                    sealed\n",
       "4                             Go Where We Went 8 Movies Ago\n",
       "                                ...                        \n",
       "117040    It 's a boom-box of a movie that might have be...\n",
       "117041                                           advantages\n",
       "117042                                   a conventional way\n",
       "117043    like Kubrick before him , may not touch the pl...\n",
       "117044                                         all go wrong\n",
       "Name: Phrase, Length: 117045, dtype: object"
      ]
     },
     "execution_count": 39,
     "metadata": {},
     "output_type": "execute_result"
    }
   ],
   "source": [
    "df_train['Phrase']"
   ]
  },
  {
   "cell_type": "markdown",
   "metadata": {},
   "source": [
    "## **Count keywords**"
   ]
  },
  {
   "cell_type": "code",
   "execution_count": 46,
   "metadata": {},
   "outputs": [
    {
     "data": {
      "text/plain": [
       "[('word', 65)]"
      ]
     },
     "execution_count": 46,
     "metadata": {},
     "output_type": "execute_result"
    }
   ],
   "source": [
    "vocab = Counter()\n",
    "\n",
    "for sentence in df_train['Phrase'][:10]:\n",
    "    for word in sentence.split(' '):\n",
    "        vocab['word'] += 1\n",
    "\n",
    "vocab.most_common()"
   ]
  },
  {
   "cell_type": "code",
   "execution_count": 47,
   "metadata": {},
   "outputs": [
    {
     "data": {
      "text/plain": [
       "[('the', 34583),\n",
       " (',', 31356),\n",
       " ('a', 25066),\n",
       " ('of', 24153),\n",
       " ('and', 23762),\n",
       " ('to', 16686),\n",
       " ('.', 13131),\n",
       " (\"'s\", 12630),\n",
       " ('in', 10128),\n",
       " ('is', 9934),\n",
       " ('that', 9071),\n",
       " ('it', 7719),\n",
       " ('as', 6340),\n",
       " ('with', 5711),\n",
       " ('for', 5445),\n",
       " ('its', 5243),\n",
       " ('film', 4953),\n",
       " ('an', 4457),\n",
       " ('movie', 4353),\n",
       " ('this', 3805),\n",
       " ('be', 3803),\n",
       " ('but', 3724),\n",
       " ('on', 3517),\n",
       " ('The', 3481),\n",
       " ('you', 3440),\n",
       " (\"n't\", 2935),\n",
       " ('by', 2874),\n",
       " ('more', 2865),\n",
       " ('his', 2783),\n",
       " ('about', 2692),\n",
       " ('from', 2576),\n",
       " ('than', 2568),\n",
       " ('at', 2566),\n",
       " ('--', 2550),\n",
       " ('or', 2547),\n",
       " ('not', 2533),\n",
       " ('one', 2526),\n",
       " ('all', 2263),\n",
       " ('have', 2260),\n",
       " ('are', 2231),\n",
       " ('like', 2137),\n",
       " (\"'\", 2124),\n",
       " ('has', 2061),\n",
       " ('A', 2024),\n",
       " ('so', 1898),\n",
       " ('story', 1824),\n",
       " ('-RRB-', 1820),\n",
       " ('out', 1758),\n",
       " ('who', 1717),\n",
       " ('most', 1638),\n",
       " ('into', 1614),\n",
       " ('too', 1575),\n",
       " ('-LRB-', 1556),\n",
       " ('up', 1539),\n",
       " ('good', 1488),\n",
       " ('their', 1438),\n",
       " ('characters', 1411),\n",
       " ('...', 1379),\n",
       " ('`', 1370),\n",
       " (\"''\", 1360),\n",
       " ('``', 1357),\n",
       " ('can', 1347),\n",
       " ('much', 1340),\n",
       " ('I', 1314),\n",
       " ('comedy', 1292),\n",
       " ('no', 1266),\n",
       " ('your', 1263),\n",
       " ('if', 1228),\n",
       " ('some', 1209),\n",
       " ('time', 1199),\n",
       " ('just', 1189),\n",
       " ('what', 1180),\n",
       " ('does', 1179),\n",
       " ('will', 1160),\n",
       " ('way', 1146),\n",
       " ('funny', 1145),\n",
       " ('little', 1123),\n",
       " ('even', 1092),\n",
       " ('any', 1073),\n",
       " ('very', 1070),\n",
       " ('life', 1056),\n",
       " ('make', 1050),\n",
       " ('only', 1045),\n",
       " ('which', 1034),\n",
       " ('been', 1027),\n",
       " ('movies', 1018),\n",
       " ('It', 994),\n",
       " ('he', 930),\n",
       " ('own', 903),\n",
       " ('was', 902),\n",
       " ('us', 897),\n",
       " ('enough', 896),\n",
       " ('work', 896),\n",
       " ('her', 893),\n",
       " ('do', 890),\n",
       " ('other', 856),\n",
       " ('they', 851),\n",
       " ('something', 851),\n",
       " ('would', 840),\n",
       " ('bad', 833)]"
      ]
     },
     "execution_count": 47,
     "metadata": {},
     "output_type": "execute_result"
    }
   ],
   "source": [
    "vocab = Counter()\n",
    "\n",
    "for sentence in df_train.Phrase:\n",
    "    for words in sentence.split(' '):\n",
    "        vocab[words] += 1\n",
    "\n",
    "vocab.most_common(100)"
   ]
  },
  {
   "cell_type": "markdown",
   "metadata": {},
   "source": [
    "## **Preprocessing**"
   ]
  },
  {
   "cell_type": "markdown",
   "metadata": {},
   "source": [
    "#### **Stopwords**"
   ]
  },
  {
   "cell_type": "code",
   "execution_count": 15,
   "metadata": {},
   "outputs": [],
   "source": [
    "from nltk.corpus import stopwords\n",
    "stop_words = stopwords.words('english')"
   ]
  },
  {
   "cell_type": "markdown",
   "metadata": {},
   "source": [
    "#### **Special characters**"
   ]
  },
  {
   "cell_type": "code",
   "execution_count": 16,
   "metadata": {},
   "outputs": [],
   "source": [
    "def preprocessor(text):\n",
    "    \"\"\" Return a cleaned version of text\n",
    "    \"\"\"\n",
    "    # Remove HTML markup\n",
    "    text = re.sub('<[^>]*>', '', text)\n",
    "    # Save emoticons for later appending\n",
    "    emoticons = re.findall('(?::|;|=)(?:-)?(?:\\)|\\(|D|P)', text)\n",
    "    # Remove any non-word character and append the emoticons,\n",
    "    # Also Convert to lower case\n",
    "    text = (re.sub('[\\W]+', ' ', text.lower()) + ' ' + ' '.join(emoticons).replace('-', ''))\n",
    "    \n",
    "    return text"
   ]
  },
  {
   "cell_type": "markdown",
   "metadata": {},
   "source": [
    "#### **Stemming/Lemmatize**"
   ]
  },
  {
   "cell_type": "code",
   "execution_count": 17,
   "metadata": {},
   "outputs": [],
   "source": [
    "from nltk.stem import PorterStemmer\n",
    "porter = PorterStemmer()\n",
    "\n",
    "from nltk.stem import WordNetLemmatizer \n",
    "lemmatizer = WordNetLemmatizer() \n",
    "\n",
    "from nltk.stem import WordNetLemmatizer\n",
    "wnl = WordNetLemmatizer()\n"
   ]
  },
  {
   "cell_type": "code",
   "execution_count": 18,
   "metadata": {},
   "outputs": [],
   "source": [
    "def tokenizer_porter(text):\n",
    "    return [porter.stem(word) for word in text.split()]"
   ]
  },
  {
   "cell_type": "code",
   "execution_count": 19,
   "metadata": {},
   "outputs": [],
   "source": [
    "def tokenizer_lemma(text):\n",
    "    return [wnl.lemmatize(word, pos='a') for word in text.split()]"
   ]
  },
  {
   "cell_type": "markdown",
   "metadata": {},
   "source": [
    "## **TRAINING COUNT**"
   ]
  },
  {
   "cell_type": "code",
   "execution_count": 20,
   "metadata": {},
   "outputs": [],
   "source": [
    "X = df_train['Phrase']\n",
    "y = df_train['Sentiment']\n",
    "X_train, X_test, y_train, y_test = train_test_split(X, y, test_size=0.2, random_state=693)"
   ]
  },
  {
   "cell_type": "code",
   "execution_count": 21,
   "metadata": {},
   "outputs": [],
   "source": [
    "count = CountVectorizer(stop_words=stop_words,\n",
    "                        tokenizer=tokenizer_porter,\n",
    "                        preprocessor=preprocessor)"
   ]
  },
  {
   "cell_type": "code",
   "execution_count": null,
   "metadata": {},
   "outputs": [],
   "source": [
    "clf = Pipeline([('vect', count),\n",
    "                ('clf', LogisticRegression(random_state=0))])\n",
    "\n",
    "clf.fit(X_train, y_train)"
   ]
  },
  {
   "cell_type": "code",
   "execution_count": null,
   "metadata": {},
   "outputs": [],
   "source": [
    "# Now apply those above metrics to evaluate your model\n",
    "# Your code here\n",
    "predictions = clf.predict(X_test)\n",
    "print('accuracy:',accuracy_score(y_test,predictions))\n",
    "print('confusion matrix:\\n',confusion_matrix(y_test,predictions))\n",
    "print('classification report:\\n',classification_report(y_test,predictions))"
   ]
  }
 ],
 "metadata": {
  "kernelspec": {
   "display_name": "Python 3",
   "language": "python",
   "name": "python3"
  },
  "language_info": {
   "codemirror_mode": {
    "name": "ipython",
    "version": 3
   },
   "file_extension": ".py",
   "mimetype": "text/x-python",
   "name": "python",
   "nbconvert_exporter": "python",
   "pygments_lexer": "ipython3",
   "version": "3.7.8"
  }
 },
 "nbformat": 4,
 "nbformat_minor": 4
}
